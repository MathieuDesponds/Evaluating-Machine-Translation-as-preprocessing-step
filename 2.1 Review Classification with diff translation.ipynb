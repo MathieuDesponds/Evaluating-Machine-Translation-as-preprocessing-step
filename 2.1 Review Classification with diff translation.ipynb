{
 "cells": [
  {
   "cell_type": "code",
   "execution_count": null,
   "id": "b1826780",
   "metadata": {},
   "outputs": [],
   "source": [
    "data_path = '/data/desponds/data/Classification'\n",
    "%load_ext autoreload\n",
    "%autoreload 2"
   ]
  },
  {
   "cell_type": "code",
   "execution_count": null,
   "id": "ecf63771",
   "metadata": {
    "scrolled": true
   },
   "outputs": [],
   "source": [
    "from preprocessing import preprocessing_review_classification\n",
    "datasets, tokenized = preprocessing_review_classification()"
   ]
  },
  {
   "cell_type": "code",
   "execution_count": null,
   "id": "b4c396c4",
   "metadata": {
    "scrolled": false
   },
   "outputs": [],
   "source": [
    "from training import get_trainers_review_classification\n",
    "trainers = get_trainers_review_classification(data_path, tokenized, langs = ['en'])"
   ]
  },
  {
   "cell_type": "code",
   "execution_count": null,
   "id": "8be85aef",
   "metadata": {
    "scrolled": true
   },
   "outputs": [],
   "source": [
    "from training import get_models_review_classification\n",
    "models = get_models_review_classification(data_path, trainers)"
   ]
  },
  {
   "cell_type": "markdown",
   "id": "5a6e9eb2",
   "metadata": {},
   "source": [
    "## Predictions"
   ]
  },
  {
   "cell_type": "code",
   "execution_count": 5,
   "id": "3fbc4671",
   "metadata": {
    "scrolled": true
   },
   "outputs": [
    {
     "name": "stderr",
     "output_type": "stream",
     "text": [
      "Could not locate the tokenizer configuration file, will try to use the model config instead.\n",
      "loading configuration file config.json from cache at /data/desponds/.cache/models--roberta-base/snapshots/bc2764f8af2e92b6eb5679868df33e224075ca68/config.json\n",
      "Model config RobertaConfig {\n",
      "  \"_name_or_path\": \"roberta-base\",\n",
      "  \"architectures\": [\n",
      "    \"RobertaForMaskedLM\"\n",
      "  ],\n",
      "  \"attention_probs_dropout_prob\": 0.1,\n",
      "  \"bos_token_id\": 0,\n",
      "  \"classifier_dropout\": null,\n",
      "  \"eos_token_id\": 2,\n",
      "  \"hidden_act\": \"gelu\",\n",
      "  \"hidden_dropout_prob\": 0.1,\n",
      "  \"hidden_size\": 768,\n",
      "  \"initializer_range\": 0.02,\n",
      "  \"intermediate_size\": 3072,\n",
      "  \"layer_norm_eps\": 1e-05,\n",
      "  \"max_position_embeddings\": 514,\n",
      "  \"model_type\": \"roberta\",\n",
      "  \"num_attention_heads\": 12,\n",
      "  \"num_hidden_layers\": 12,\n",
      "  \"pad_token_id\": 1,\n",
      "  \"position_embedding_type\": \"absolute\",\n",
      "  \"transformers_version\": \"4.24.0\",\n",
      "  \"type_vocab_size\": 1,\n",
      "  \"use_cache\": true,\n",
      "  \"vocab_size\": 50265\n",
      "}\n",
      "\n",
      "loading file vocab.json from cache at /data/desponds/.cache/models--roberta-base/snapshots/bc2764f8af2e92b6eb5679868df33e224075ca68/vocab.json\n",
      "loading file merges.txt from cache at /data/desponds/.cache/models--roberta-base/snapshots/bc2764f8af2e92b6eb5679868df33e224075ca68/merges.txt\n",
      "loading file tokenizer.json from cache at /data/desponds/.cache/models--roberta-base/snapshots/bc2764f8af2e92b6eb5679868df33e224075ca68/tokenizer.json\n",
      "loading file added_tokens.json from cache at None\n",
      "loading file special_tokens_map.json from cache at None\n",
      "loading file tokenizer_config.json from cache at None\n",
      "loading configuration file config.json from cache at /data/desponds/.cache/models--roberta-base/snapshots/bc2764f8af2e92b6eb5679868df33e224075ca68/config.json\n",
      "Model config RobertaConfig {\n",
      "  \"_name_or_path\": \"roberta-base\",\n",
      "  \"architectures\": [\n",
      "    \"RobertaForMaskedLM\"\n",
      "  ],\n",
      "  \"attention_probs_dropout_prob\": 0.1,\n",
      "  \"bos_token_id\": 0,\n",
      "  \"classifier_dropout\": null,\n",
      "  \"eos_token_id\": 2,\n",
      "  \"hidden_act\": \"gelu\",\n",
      "  \"hidden_dropout_prob\": 0.1,\n",
      "  \"hidden_size\": 768,\n",
      "  \"initializer_range\": 0.02,\n",
      "  \"intermediate_size\": 3072,\n",
      "  \"layer_norm_eps\": 1e-05,\n",
      "  \"max_position_embeddings\": 514,\n",
      "  \"model_type\": \"roberta\",\n",
      "  \"num_attention_heads\": 12,\n",
      "  \"num_hidden_layers\": 12,\n",
      "  \"pad_token_id\": 1,\n",
      "  \"position_embedding_type\": \"absolute\",\n",
      "  \"transformers_version\": \"4.24.0\",\n",
      "  \"type_vocab_size\": 1,\n",
      "  \"use_cache\": true,\n",
      "  \"vocab_size\": 50265\n",
      "}\n",
      "\n"
     ]
    }
   ],
   "source": [
    "from transformers import AutoTokenizer\n",
    "tokenizer = AutoTokenizer.from_pretrained('roberta-base', cache_dir=\"/data/desponds/.cache\")\n",
    "\n",
    "def preprocess_after_trad(dataset, no_remove = False):\n",
    "    def tokenize_function(examples):\n",
    "        return tokenizer(examples[\"text\"], \n",
    "                         padding=\"max_length\", truncation=True)\n",
    "    if not no_remove :\n",
    "        dataset = dataset.remove_columns(['input_ids', 'attention_mask'])\n",
    "    dataset = dataset.map(tokenize_function)\n",
    "    return dataset"
   ]
  },
  {
   "cell_type": "code",
   "execution_count": 6,
   "id": "94a6527a",
   "metadata": {},
   "outputs": [
    {
     "name": "stderr",
     "output_type": "stream",
     "text": [
      "Loading cached processed dataset at /home/desponds/.cache/huggingface/datasets/amazon_reviews_multi/fr/1.0.0/724e94f4b0c6c405ce7e476a6c5ef4f87db30799ad49f765094cf9770e0f7609/cache-b3f66e1ca092068a.arrow\n",
      "The following columns in the test set don't have a corresponding argument in `RobertaForSequenceClassification.forward` and have been ignored: text. If text are not expected by `RobertaForSequenceClassification.forward`,  you can safely ignore this message.\n",
      "***** Running Prediction *****\n",
      "  Num examples = 5000\n",
      "  Batch size = 16\n",
      "/data/desponds/anaconda3/lib/python3.9/site-packages/torch/nn/parallel/_functions.py:68: UserWarning: Was asked to gather along dimension 0, but all input tensors were scalars; will instead unsqueeze and return a vector.\n",
      "  warnings.warn('Was asked to gather along dimension 0, but all '\n"
     ]
    },
    {
     "data": {
      "text/html": [],
      "text/plain": [
       "<IPython.core.display.HTML object>"
      ]
     },
     "metadata": {},
     "output_type": "display_data"
    }
   ],
   "source": [
    "import pickle \n",
    "dataset,results = {}, {}\n",
    "#Basecase : no translation\n",
    "dataset[f\"translated_0_4\"] = preprocess_after_trad(tokenized['fr']['test'])\n",
    "results[f\"translated_0_4\"] = models['en'].predict(dataset[f'translated_0_4'])\n",
    "\n",
    "for i in range(1,4+1):\n",
    "    with open(f'/data/desponds/data/Classification/translated_dataset/translated_epoch_1_{i}_4.pickle', 'rb') as handle:\n",
    "        dataset[f\"translated_{i}_4\"] = pickle.load(handle)\n",
    "    dataset[f\"translated_{i}_4\"] = preprocess_after_trad(dataset[f\"translated_{i}_4\"])\n",
    "    results[f\"translated_{i}_4\"] = models['en'].predict(dataset[f'translated_{i}_4'])\n",
    "\n",
    "with open(f'/data/desponds/data/Classification/translated_dataset/translated_epoch_5_4_4.pickle', 'rb') as handle:\n",
    "        dataset[f\"translated_4_4_epoch_5\"] = pickle.load(handle)    \n",
    "dataset[f\"translated_4_4_epoch_5\"] = preprocess_after_trad(dataset[f\"translated_4_4_epoch_5\"])\n",
    "results[f\"translated_4_4_epoch_5\"] = models['en'].predict(dataset[f\"translated_4_4_epoch_5\"])"
   ]
  },
  {
   "cell_type": "code",
   "execution_count": 7,
   "id": "e057a77d",
   "metadata": {},
   "outputs": [
    {
     "data": {
      "text/plain": [
       "{'translated_4_4_epoch_5': 0.4608, 'Helsinki_translator': 0.552}"
      ]
     },
     "execution_count": 7,
     "metadata": {},
     "output_type": "execute_result"
    }
   ],
   "source": [
    "final_results = { k: v[2]['test_accuracy'] for k,v in results.items()}\n",
    "final_results['Helsinki_translator'] = 0.552\n",
    "final_results"
   ]
  },
  {
   "cell_type": "code",
   "execution_count": 8,
   "id": "76d16c00",
   "metadata": {},
   "outputs": [
    {
     "data": {
      "text/plain": [
       "{'translated_0_4': 0.2998,\n",
       " 'translated_1_4': 0.4618,\n",
       " 'translated_2_4': 0.4592,\n",
       " 'translated_3_4': 0.4646,\n",
       " 'translated_4_4': 0.4468,\n",
       " 'translated_4_4_epoch_5': 0.4608,\n",
       " 'Helsinki_translator': 0.552}"
      ]
     },
     "execution_count": 8,
     "metadata": {},
     "output_type": "execute_result"
    }
   ],
   "source": [
    "final_results = {\n",
    " 'translated_0_4': 0.2998,\n",
    " 'translated_1_4': 0.4618,\n",
    " 'translated_2_4': 0.4592,\n",
    " 'translated_3_4': 0.4646,\n",
    " 'translated_4_4': 0.4468,\n",
    " 'translated_4_4_epoch_5': 0.4608,\n",
    " 'Helsinki_translator': 0.552}\n",
    "final_results"
   ]
  },
  {
   "cell_type": "code",
   "execution_count": null,
   "id": "3bd41eaa",
   "metadata": {},
   "outputs": [],
   "source": []
  }
 ],
 "metadata": {
  "kernelspec": {
   "display_name": "Python 3 (ipykernel)",
   "language": "python",
   "name": "python3"
  },
  "language_info": {
   "codemirror_mode": {
    "name": "ipython",
    "version": 3
   },
   "file_extension": ".py",
   "mimetype": "text/x-python",
   "name": "python",
   "nbconvert_exporter": "python",
   "pygments_lexer": "ipython3",
   "version": "3.9.13"
  }
 },
 "nbformat": 4,
 "nbformat_minor": 5
}
