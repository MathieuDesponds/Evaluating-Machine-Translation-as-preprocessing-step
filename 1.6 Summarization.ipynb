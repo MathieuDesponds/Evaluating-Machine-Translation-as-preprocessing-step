{
 "cells": [
  {
   "cell_type": "code",
   "execution_count": null,
   "id": "d3b1f0aa",
   "metadata": {
    "scrolled": true
   },
   "outputs": [],
   "source": [
    "from datasets import load_dataset\n",
    "from transformers import AutoTokenizer\n",
    "from datasets.dataset_dict import DatasetDict\n",
    "from datasets import Dataset\n",
    "import pandas as pd\n",
    "%load_ext autoreload\n",
    "%autoreload 2\n",
    "\n",
    "data_path = \"/data/desponds/data/Summarization/\""
   ]
  },
  {
   "cell_type": "code",
   "execution_count": null,
   "id": "bb735143",
   "metadata": {
    "scrolled": true
   },
   "outputs": [],
   "source": [
    "from preprocessing import preprocessing_summarization\n",
    "datasets, tokenized = preprocessing_summarization()"
   ]
  },
  {
   "cell_type": "code",
   "execution_count": null,
   "id": "783ae89f",
   "metadata": {},
   "outputs": [],
   "source": [
    "import pickle\n",
    "with open('/data/desponds/data/Summarization/tokenized.pickle', 'wb') as handle:\n",
    "    pickle.dump(tokenized, handle)\n",
    "with open('/data/desponds/data/Summarization/datasets.pickle', 'wb') as handle:\n",
    "    pickle.dump(datasets, handle)"
   ]
  },
  {
   "cell_type": "code",
   "execution_count": null,
   "id": "1c5db004",
   "metadata": {},
   "outputs": [],
   "source": [
    "import pickle\n",
    "with open('/data/desponds/data/Summarization/tokenized.pickle', 'rb') as handle:\n",
    "    tokenized = pickle.load(handle)\n",
    "with open('/data/desponds/data/Summarization/datasets.pickle', 'rb') as handle:\n",
    "    datasets = pickle.load(handle)"
   ]
  },
  {
   "cell_type": "code",
   "execution_count": null,
   "id": "beb381a1",
   "metadata": {},
   "outputs": [],
   "source": [
    "from training import get_trainers_summarization\n",
    "trainers = get_trainers_summarization(data_path, tokenized)"
   ]
  },
  {
   "cell_type": "code",
   "execution_count": null,
   "id": "45097784",
   "metadata": {
    "scrolled": true
   },
   "outputs": [],
   "source": [
    "trainers['fr'].train()\n",
    "trainers['en'].train()"
   ]
  },
  {
   "cell_type": "markdown",
   "id": "bb1a69cc",
   "metadata": {},
   "source": [
    "## Translation"
   ]
  },
  {
   "cell_type": "code",
   "execution_count": null,
   "id": "1efa7243",
   "metadata": {
    "scrolled": true
   },
   "outputs": [],
   "source": [
    "from datasets import load_dataset\n",
    "from transformers import AutoTokenizer\n",
    "from datasets.dataset_dict import DatasetDict\n",
    "from datasets import Dataset\n",
    "import pandas as pd\n",
    "%load_ext autoreload\n",
    "%autoreload 2\n",
    "\n",
    "data_path = \"/data/desponds/data/Summarization/\""
   ]
  },
  {
   "cell_type": "code",
   "execution_count": null,
   "id": "10474d47",
   "metadata": {},
   "outputs": [],
   "source": [
    "import pickle\n",
    "with open('/data/desponds/data/Summarization/tokenized.pickle', 'rb') as handle:\n",
    "    tokenized = pickle.load(handle)\n",
    "with open('/data/desponds/data/Summarization/datasets.pickle', 'rb') as handle:\n",
    "    datasets = pickle.load(handle)"
   ]
  },
  {
   "cell_type": "code",
   "execution_count": null,
   "id": "748aa08e",
   "metadata": {},
   "outputs": [],
   "source": [
    "d = datasets['fr']['test'][0]['source'][:1900]\n",
    "d"
   ]
  },
  {
   "cell_type": "code",
   "execution_count": null,
   "id": "f88ed5d6",
   "metadata": {},
   "outputs": [],
   "source": [
    "from translation import translate_fr_en_1,translate_fr_en_2, translate_en_fr\n",
    "print(translate_fr_en_1(datasets['fr']['test'][0]['source'])) #with truncate = True \n",
    "# translate_fr_en_2([d])"
   ]
  },
  {
   "cell_type": "code",
   "execution_count": null,
   "id": "e9dde221",
   "metadata": {
    "scrolled": true
   },
   "outputs": [],
   "source": [
    "print(translate_fr_en_1(datasets['fr']['test'][0]['source'][:1900]))"
   ]
  },
  {
   "cell_type": "code",
   "execution_count": null,
   "id": "52190bc0",
   "metadata": {
    "scrolled": true
   },
   "outputs": [],
   "source": [
    "from translation import translate_fr_en_summarization\n",
    "translated_dataset = datasets['fr']['test'].map(translate_fr_en_summarization)\n",
    "with open('/data/desponds/data/Summarization/translated_dataset.pickle', 'wb') as handle:\n",
    "    pickle.dump(translated_dataset, handle)"
   ]
  },
  {
   "cell_type": "code",
   "execution_count": null,
   "id": "bf3d2c91",
   "metadata": {},
   "outputs": [],
   "source": [
    "from translation import translate_fr_en\n",
    "d = datasets['fr']['test'][0]['source']\n",
    "translate_fr_en(d)"
   ]
  },
  {
   "cell_type": "code",
   "execution_count": 12,
   "id": "24d7e10c",
   "metadata": {},
   "outputs": [
    {
     "data": {
      "text/plain": [
       "458"
      ]
     },
     "execution_count": 12,
     "metadata": {},
     "output_type": "execute_result"
    }
   ],
   "source": [
    "len(d)"
   ]
  },
  {
   "cell_type": "markdown",
   "id": "b51db800",
   "metadata": {},
   "source": [
    "## Inference"
   ]
  },
  {
   "cell_type": "code",
   "execution_count": null,
   "id": "94360241",
   "metadata": {},
   "outputs": [],
   "source": [
    "from training import get_models_summarization\n",
    "models = get_models_summarization(trainers)"
   ]
  },
  {
   "cell_type": "code",
   "execution_count": null,
   "id": "3ab3a033",
   "metadata": {},
   "outputs": [],
   "source": [
    "results = {}\n",
    "results['fr'] = models['fr'].predict(tokenized['fr']['test'])\n",
    "results['en'] = models['en'].predict(tokenized['en']['test'])\n",
    "results"
   ]
  },
  {
   "cell_type": "code",
   "execution_count": 11,
   "id": "62b033c7",
   "metadata": {},
   "outputs": [
    {
     "data": {
      "text/html": [
       "<div>\n",
       "<style scoped>\n",
       "    .dataframe tbody tr th:only-of-type {\n",
       "        vertical-align: middle;\n",
       "    }\n",
       "\n",
       "    .dataframe tbody tr th {\n",
       "        vertical-align: top;\n",
       "    }\n",
       "\n",
       "    .dataframe thead th {\n",
       "        text-align: right;\n",
       "    }\n",
       "</style>\n",
       "<table border=\"1\" class=\"dataframe\">\n",
       "  <thead>\n",
       "    <tr style=\"text-align: right;\">\n",
       "      <th></th>\n",
       "      <th>fr</th>\n",
       "      <th>en</th>\n",
       "    </tr>\n",
       "  </thead>\n",
       "  <tbody>\n",
       "    <tr>\n",
       "      <th>test_loss</th>\n",
       "      <td>2.488802</td>\n",
       "      <td>2.472695</td>\n",
       "    </tr>\n",
       "    <tr>\n",
       "      <th>test_rouge1</th>\n",
       "      <td>0.140000</td>\n",
       "      <td>0.225800</td>\n",
       "    </tr>\n",
       "    <tr>\n",
       "      <th>test_rouge2</th>\n",
       "      <td>0.048200</td>\n",
       "      <td>0.074700</td>\n",
       "    </tr>\n",
       "    <tr>\n",
       "      <th>test_rougeL</th>\n",
       "      <td>0.128400</td>\n",
       "      <td>0.197200</td>\n",
       "    </tr>\n",
       "    <tr>\n",
       "      <th>test_rougeLsum</th>\n",
       "      <td>0.128400</td>\n",
       "      <td>0.197200</td>\n",
       "    </tr>\n",
       "    <tr>\n",
       "      <th>test_gen_len</th>\n",
       "      <td>18.564200</td>\n",
       "      <td>18.334400</td>\n",
       "    </tr>\n",
       "    <tr>\n",
       "      <th>test_runtime</th>\n",
       "      <td>727.336700</td>\n",
       "      <td>1552.101700</td>\n",
       "    </tr>\n",
       "    <tr>\n",
       "      <th>test_samples_per_second</th>\n",
       "      <td>11.941000</td>\n",
       "      <td>12.308000</td>\n",
       "    </tr>\n",
       "    <tr>\n",
       "      <th>test_steps_per_second</th>\n",
       "      <td>1.493000</td>\n",
       "      <td>1.539000</td>\n",
       "    </tr>\n",
       "  </tbody>\n",
       "</table>\n",
       "</div>"
      ],
      "text/plain": [
       "                                 fr           en\n",
       "test_loss                  2.488802     2.472695\n",
       "test_rouge1                0.140000     0.225800\n",
       "test_rouge2                0.048200     0.074700\n",
       "test_rougeL                0.128400     0.197200\n",
       "test_rougeLsum             0.128400     0.197200\n",
       "test_gen_len              18.564200    18.334400\n",
       "test_runtime             727.336700  1552.101700\n",
       "test_samples_per_second   11.941000    12.308000\n",
       "test_steps_per_second      1.493000     1.539000"
      ]
     },
     "execution_count": 11,
     "metadata": {},
     "output_type": "execute_result"
    }
   ],
   "source": [
    "import pandas as pd\n",
    "final_results = { k: v[2] for k,v in results.items()}\n",
    "pd.DataFrame(final_results)\n",
    "#{'fr': {'test_loss': 2.488802194595337,\n",
    "#   'test_rouge1': 0.14,\n",
    "#   'test_rouge2': 0.0482,\n",
    "#   'test_rougeL': 0.1284,\n",
    "#   'test_rougeLsum': 0.1284,\n",
    "#   'test_gen_len': 18.5642,\n",
    "#   'test_runtime': 727.3367,\n",
    "#   'test_samples_per_second': 11.941,\n",
    "#   'test_steps_per_second': 1.493},\n",
    "#  'en': {'test_loss': 2.4726946353912354,\n",
    "#   'test_rouge1': 0.2258,\n",
    "#   'test_rouge2': 0.0747,\n",
    "#   'test_rougeL': 0.1972,\n",
    "#   'test_rougeLsum': 0.1972,\n",
    "#   'test_gen_len': 18.3344,\n",
    "#   'test_runtime': 1552.1017,\n",
    "#   'test_samples_per_second': 12.308,\n",
    "#   'test_steps_per_second': 1.539}}"
   ]
  },
  {
   "cell_type": "code",
   "execution_count": 10,
   "id": "4c11635c",
   "metadata": {},
   "outputs": [
    {
     "data": {
      "text/plain": [
       "[{'summary_text': '<extra_id_0>. Vous avez raison. »'}]"
      ]
     },
     "execution_count": 10,
     "metadata": {},
     "output_type": "execute_result"
    }
   ],
   "source": [
    "from transformers import pipeline\n",
    "\n",
    "summarizer = pipeline(\"summarization\", model=\"/data/desponds/data/Summarization/trainer_fr/checkpoint-38000\")\n",
    "summarizer(text)"
   ]
  }
 ],
 "metadata": {
  "kernelspec": {
   "display_name": "Python 3 (ipykernel)",
   "language": "python",
   "name": "python3"
  },
  "language_info": {
   "codemirror_mode": {
    "name": "ipython",
    "version": 3
   },
   "file_extension": ".py",
   "mimetype": "text/x-python",
   "name": "python",
   "nbconvert_exporter": "python",
   "pygments_lexer": "ipython3",
   "version": "3.9.13"
  }
 },
 "nbformat": 4,
 "nbformat_minor": 5
}
