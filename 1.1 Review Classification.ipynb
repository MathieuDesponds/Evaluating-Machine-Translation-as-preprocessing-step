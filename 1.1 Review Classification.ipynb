{
 "cells": [
  {
   "cell_type": "markdown",
   "id": "3574ad4e",
   "metadata": {},
   "source": [
    "# Setup"
   ]
  },
  {
   "cell_type": "code",
   "execution_count": null,
   "id": "e40823a0",
   "metadata": {},
   "outputs": [],
   "source": [
    "import torch\n",
    "print(torch.cuda.is_available(),torch.cuda.device_count(),torch.cuda.current_device())\n",
    "torch.cuda.device(1)\n",
    "\n",
    "model_fr_name = 'camembert-base'\n",
    "model_en_name = 'roberta-base'\n",
    "model_translation = {}\n",
    "model_translation['fr_en'] = 'Helsinki-NLP/opus-mt-fr-en'\n",
    "model_translation['en_fr'] = 'Helsinki-NLP/opus-mt-en-fr'\n",
    "dataset_name = 'amazon_reviews_multi'\n",
    "data_path = '/data/desponds/data/Classification'\n",
    "\n",
    "\n",
    "%load_ext autoreload\n",
    "%autoreload 2"
   ]
  },
  {
   "cell_type": "markdown",
   "id": "070664e2",
   "metadata": {},
   "source": [
    "# Get data, trainers and models if already trained"
   ]
  },
  {
   "cell_type": "code",
   "execution_count": null,
   "id": "d0e7f697",
   "metadata": {
    "scrolled": true
   },
   "outputs": [],
   "source": [
    "from preprocessing import preprocessing_review_classification\n",
    "datasets, tokenized = preprocessing_review_classification(dataset_name, data_path)"
   ]
  },
  {
   "cell_type": "code",
   "execution_count": null,
   "id": "2a8d58be",
   "metadata": {},
   "outputs": [],
   "source": [
    "datasets['en']['train'][0], datasets['fr']['train'][9873]"
   ]
  },
  {
   "cell_type": "code",
   "execution_count": null,
   "id": "4e0bb47a",
   "metadata": {
    "scrolled": true
   },
   "outputs": [],
   "source": [
    "from training import get_trainers_review_classification\n",
    "trainers = get_trainers_review_classification(data_path, tokenized)"
   ]
  },
  {
   "cell_type": "code",
   "execution_count": null,
   "id": "25934e0c",
   "metadata": {},
   "outputs": [],
   "source": [
    "from training import get_models_review_classification\n",
    "models = get_models_review_classification(data_path, trainers)"
   ]
  },
  {
   "cell_type": "code",
   "execution_count": null,
   "id": "419f8908",
   "metadata": {},
   "outputs": [],
   "source": [
    "def remove_bad_punctuation(example):\n",
    "    example['review_body'] = example['review_body'].replace('...', '.')\\\n",
    "                                                    .replace('. .', '.')\\\n",
    "                                                    .replace('..', '.')\n",
    "    return example\n",
    "datasets['fr']['test'] = datasets['fr']['test'].map(remove_bad_punctuation)"
   ]
  },
  {
   "cell_type": "markdown",
   "id": "82efc497",
   "metadata": {},
   "source": [
    "# Translation"
   ]
  },
  {
   "cell_type": "code",
   "execution_count": null,
   "id": "92126279",
   "metadata": {},
   "outputs": [],
   "source": [
    "from translation import translate_fr_en_review_classification\n",
    "save_path = f\"{data_path}/translated_dataset.pickle\"\n",
    "translate_fr_en_review_classification(datasets['fr']['test'], save_path)"
   ]
  },
  {
   "cell_type": "code",
   "execution_count": null,
   "id": "75f177a5",
   "metadata": {},
   "outputs": [],
   "source": [
    "import pickle\n",
    "with open(f\"{data_path}/translated_dataset.pickle\", 'rb') as handle:\n",
    "    translated_fr_en = pickle.load(handle)"
   ]
  },
  {
   "cell_type": "markdown",
   "id": "308bf959",
   "metadata": {},
   "source": [
    "# Evaluation"
   ]
  },
  {
   "cell_type": "code",
   "execution_count": null,
   "id": "df006cf7",
   "metadata": {},
   "outputs": [],
   "source": [
    "from evaluation  import evaluate_review_classification \n",
    "accuracies = evaluate_review_classification(models, tokenized, datasets)\n",
    "accuracies"
   ]
  },
  {
   "cell_type": "markdown",
   "id": "de5f82fe",
   "metadata": {},
   "source": [
    "## Results"
   ]
  },
  {
   "cell_type": "code",
   "execution_count": null,
   "id": "28f7656e",
   "metadata": {},
   "outputs": [],
   "source": [
    "import pandas as pd\n",
    "data = {\n",
    "    'task' : ['Classification', 'Classification', 'Classification', 'Classification'],\n",
    "    'model'   : [ 'RoBERTa', 'RoBERTa', 'RoBERTa', 'CamemBERT'],\n",
    "    'nb_sample_train' : [200000,200000,200000,200000],\n",
    "    'train_dataset' : ['Amazon_reviews_en', 'Amazon_reviews_en', 'Amazon_reviews_en', 'Amazon_reviews_fr'],\n",
    "    'test_dataset' : ['Amazon_reviews_en', 'Amazon_reviews_fr', 'Amazon_reviews_fr_translated', 'Amazon_reviews_fr', ],\n",
    "    'translated' : ['no', 'no', 'yes', 'no'],\n",
    "    'test_accuracy' : [0.6044, 0.2028 , 0.552, 0.5972]\n",
    "}\n",
    "results = pd.DataFrame(data)\n",
    "results"
   ]
  }
 ],
 "metadata": {
  "kernelspec": {
   "display_name": "Python 3 (ipykernel)",
   "language": "python",
   "name": "python3"
  },
  "language_info": {
   "codemirror_mode": {
    "name": "ipython",
    "version": 3
   },
   "file_extension": ".py",
   "mimetype": "text/x-python",
   "name": "python",
   "nbconvert_exporter": "python",
   "pygments_lexer": "ipython3",
   "version": "3.9.13"
  }
 },
 "nbformat": 4,
 "nbformat_minor": 5
}
