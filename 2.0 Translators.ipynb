{
 "cells": [
  {
   "cell_type": "markdown",
   "id": "4e469ec8",
   "metadata": {},
   "source": [
    "# Setup"
   ]
  },
  {
   "cell_type": "code",
   "execution_count": null,
   "id": "4943d9d2",
   "metadata": {},
   "outputs": [],
   "source": [
    "from datasets import load_dataset\n",
    "from transformers import AutoTokenizer\n",
    "from transformers import DataCollatorForSeq2Seq\n",
    "from transformers import AutoModelForSeq2SeqLM, Seq2SeqTrainingArguments, Seq2SeqTrainer\n",
    "\n",
    "import evaluate\n",
    "import numpy as np\n",
    "\n",
    "%load_ext autoreload\n",
    "%autoreload 2"
   ]
  },
  {
   "cell_type": "markdown",
   "id": "3e3654e7",
   "metadata": {},
   "source": [
    "# Training of the translators"
   ]
  },
  {
   "cell_type": "code",
   "execution_count": null,
   "id": "b9655f1a",
   "metadata": {},
   "outputs": [],
   "source": [
    "books = load_dataset(\"opus_books\", \"en-fr\")\n",
    "books = books[\"train\"].train_test_split(test_size=0.2, seed = 42)\n",
    "\n",
    "checkpoint = \"t5-base\"\n",
    "tokenizer = AutoTokenizer.from_pretrained(checkpoint, cache_dir=\"/data/desponds/.cache\")\n",
    "model = AutoModelForSeq2SeqLM.from_pretrained(checkpoint, cache_dir=\"/data/desponds/.cache\")"
   ]
  },
  {
   "cell_type": "code",
   "execution_count": null,
   "id": "b787a270",
   "metadata": {},
   "outputs": [],
   "source": [
    "source_lang = 'en' #\"fr\"\n",
    "target_lang = 'fr' #\"en\"\n",
    "prefix = \"translate English to French: \"#\"translate French to English: \"\n",
    "\n",
    "def preprocess_function(examples):\n",
    "    inputs = [prefix + example[source_lang] for example in examples[\"translation\"]]\n",
    "    targets = [example[target_lang] for example in examples[\"translation\"]]\n",
    "    model_inputs = tokenizer(inputs, text_target=targets, max_length=128, truncation=True)\n",
    "    return model_inputs\n",
    "\n",
    "tokenized_books = books.map(preprocess_function, batched=True)\n",
    "\n",
    "data_collator = DataCollatorForSeq2Seq(tokenizer=tokenizer, model=checkpoint)"
   ]
  },
  {
   "cell_type": "code",
   "execution_count": null,
   "id": "3d059bba",
   "metadata": {
    "scrolled": false
   },
   "outputs": [],
   "source": [
    "def postprocess_text(preds, labels):\n",
    "    preds = [pred.strip() for pred in preds]\n",
    "    labels = [[label.strip()] for label in labels]\n",
    "\n",
    "    return preds, labels\n",
    "metric = evaluate.load(\"sacrebleu\")\n",
    "\n",
    "def compute_metrics(eval_preds):\n",
    "    preds, labels = eval_preds\n",
    "    if isinstance(preds, tuple):\n",
    "        preds = preds[0]\n",
    "    decoded_preds = tokenizer.batch_decode(preds, skip_special_tokens=True)\n",
    "\n",
    "    labels = np.where(labels != -100, labels, tokenizer.pad_token_id)\n",
    "    decoded_labels = tokenizer.batch_decode(labels, skip_special_tokens=True)\n",
    "\n",
    "    decoded_preds, decoded_labels = postprocess_text(decoded_preds, decoded_labels)\n",
    "\n",
    "    result = metric.compute(predictions=decoded_preds, references=decoded_labels)\n",
    "    result = {\"bleu\": result[\"score\"]}\n",
    "\n",
    "    prediction_lens = [np.count_nonzero(pred != tokenizer.pad_token_id) for pred in preds]\n",
    "    result[\"gen_len\"] = np.mean(prediction_lens)\n",
    "    result = {k: round(v, 4) for k, v in result.items()}\n",
    "    return result"
   ]
  },
  {
   "cell_type": "code",
   "execution_count": null,
   "id": "ebd0f865",
   "metadata": {
    "scrolled": true
   },
   "outputs": [],
   "source": [
    "num_epoch = 3\n",
    "def get_training_arguments(quartile):\n",
    "    return Seq2SeqTrainingArguments(\n",
    "    output_dir=f\"/data/desponds/data/translation_models/en_fr_model_t5_base_4_4_epoch_3\",\n",
    "    evaluation_strategy=\"epoch\",\n",
    "    learning_rate=2e-5,\n",
    "    per_device_train_batch_size=8,\n",
    "    per_device_eval_batch_size=8,\n",
    "    weight_decay=0.01,\n",
    "    save_total_limit=3,\n",
    "    save_strategy=\"epoch\",\n",
    "    num_train_epochs=num_epoch ,\n",
    "    predict_with_generate=True,\n",
    "    fp16=True,\n",
    ")\n",
    "\n",
    "def get_trainer(quartile):\n",
    "    if quartile == 4 :\n",
    "        train_set = tokenized_books[\"train\"]\n",
    "    elif quartile == 0:\n",
    "        train_set = tokenized_books[\"train\"].select([1,2,3,4])\n",
    "    else :\n",
    "        train_set = tokenized_books[\"train\"].train_test_split(train_size=quartile/4.)['train']\n",
    "    return Seq2SeqTrainer(\n",
    "    model=model,\n",
    "    args=training_args,\n",
    "    train_dataset= train_set,\n",
    "    eval_dataset=tokenized_books[\"test\"].select([0,1]),\n",
    "    tokenizer=tokenizer,\n",
    "    data_collator=data_collator,\n",
    "    compute_metrics=compute_metrics,\n",
    ")\n",
    "\n",
    "# for quartile in range(4,5):\n",
    "quartile = 4\n",
    "training_args = get_training_arguments(quartile)\n",
    "trainer = get_trainer(quartile)\n",
    "trainer.train()"
   ]
  },
  {
   "cell_type": "markdown",
   "id": "00dd2c5d",
   "metadata": {},
   "source": [
    "# Benchmarking"
   ]
  },
  {
   "cell_type": "code",
   "execution_count": null,
   "id": "ce5c4e1e",
   "metadata": {},
   "outputs": [],
   "source": [
    "from datasets import load_dataset\n",
    "import evaluate\n",
    "from transformers import pipeline\n",
    "from translation import translate_fr_en\n",
    "import translators as ts\n",
    "metric = evaluate.load(\"sacrebleu\")\n",
    "results,datasets = {}, {}"
   ]
  },
  {
   "cell_type": "code",
   "execution_count": null,
   "id": "6fc26d75",
   "metadata": {},
   "outputs": [],
   "source": [
    "# Load the dataset and preprocess it \n",
    "def preprocess(dataset):\n",
    "    def reformat(examples):\n",
    "        examples['sourceLang'], examples['targetLang'] = examples['targetlang'] ,examples['sourceLang']  \n",
    "        examples['sourceString'], examples['targetString'] = examples['targetString'] ,examples['sourceString']  \n",
    "        return examples\n",
    "    dataset = dataset.map(reformat)\n",
    "    dataset = dataset.remove_columns(['targetlang'])\n",
    "    return dataset\n",
    "\n",
    "\n",
    "def translate_fr_benchmarking(examples, translator = None):\n",
    "    if translator == None : \n",
    "        examples['translated'] = translate_fr_en(examples['sourceString'])\n",
    "    else :\n",
    "        examples['translated'] = translate_fr_en(examples['sourceString'],translator)\n",
    "    return examples\n",
    "\n",
    "\n",
    "dataset = load_dataset('Helsinki-NLP/tatoeba_mt', 'eng-fra', split = 'test[:20%]', cache_dir=\"/data/desponds/.cache\")\n",
    "dataset = preprocess(dataset)"
   ]
  },
  {
   "cell_type": "code",
   "execution_count": null,
   "id": "d566e41c",
   "metadata": {},
   "outputs": [],
   "source": [
    "datasets, results = {},{}\n",
    "for i in range(1,1+1):\n",
    "    datasets[f\"translated_{8*i}\"] = dataset.map(lambda examples :  translate_fr_benchmarking(examples, translator = translators_epoch_1[i]), batched = True)\n",
    "    score = metric.compute(predictions=datasets[f\"translated_{8*i}\"]['translated'], references=datasets[f\"translated_{8*i}\"]['targetString'])\n",
    "    results[f\"translated_{8*i}\"] =  {\"bleu\": score[\"score\"]}\n",
    "results"
   ]
  },
  {
   "cell_type": "code",
   "execution_count": null,
   "id": "d3a1c782",
   "metadata": {},
   "outputs": [],
   "source": [
    "datasets[f\"translated_Helsinki\"] = dataset.map(translate_fr_benchmarking, batched = True)\n",
    "score = metric.compute(predictions=datasets[f\"translated_Helsinki\"]['translated'], references=datasets[f\"translated_Helsinki\"]['targetString'])\n",
    "results[f\"translated_Helsinki\"] =  {\"bleu\": score[\"score\"]}"
   ]
  },
  {
   "cell_type": "code",
   "execution_count": null,
   "id": "e2551f04",
   "metadata": {},
   "outputs": [],
   "source": [
    "name = 'model_t5_small_1_8_epoch_1'\n",
    "translator = pipeline(\"translation\", model=f\"/data/desponds/data/translation_models/model_t5_small_1_8_epoch_1/checkpoint-795\")\n",
    "datasets[f\"translator_{name}\"] = dataset.map(lambda examples : translate_fr_benchmarking(examples, translator = translator), batched = True)\n",
    "score = metric.compute(predictions=datasets[f\"translator_{name}\"]['translated'], references=datasets[f\"translator_{name}\"]['targetString'])\n",
    "results[f\"translator_{name}\"] =  {\"bleu\": score[\"score\"]}"
   ]
  },
  {
   "cell_type": "code",
   "execution_count": null,
   "id": "775d31e7",
   "metadata": {},
   "outputs": [],
   "source": [
    "results\n",
    "#  \n",
    "#{\n",
    "#  'translator_model_t5_small_1_8_epoch_1': {'bleu': 6.079863457383406} x\n",
    "#  'translator_0_4': {'bleu': 0.7212123764045337}},\n",
    "#  'translated_1_4': {'bleu': 18.309957728250946},                xx\n",
    "#  'translated_2_4': {'bleu': 18.954448420186928},\n",
    "#  'translated_3_4': {'bleu': 19.75110141776996},\n",
    "#  'translated_4_4': {'bleu': 13.231679360817093},\n",
    "#  'translator_model_4_4_epoch_5': {'bleu': 20.91257821000636}    xx\n",
    "#  'translated_t5_base_4_4_epoch_1': {'bleu': 20.89527497402696}, \n",
    "#  'translator_t5_base_4_4_epoch_2': {'bleu': 26.04773730194601},\n",
    "#  'translated_t5_base_4_4_epoch_3': {'bleu': 26.04773730194601}, xx\n",
    "\n",
    "#  'translated_Helsinki': {'bleu': 56.39336432554474},            xx\n",
    "#  'translated_tc-big': {'bleu': 58.4968895273038}}               xx"
   ]
  },
  {
   "cell_type": "markdown",
   "id": "86bbada4",
   "metadata": {},
   "source": [
    "### Trying to import other traductors \n",
    "[Documentation](https://pypi.org/project/translators/)"
   ]
  },
  {
   "cell_type": "code",
   "execution_count": null,
   "id": "a70ad4f0",
   "metadata": {},
   "outputs": [],
   "source": [
    "from transformers import pipeline\n",
    "def ts_translate(example, translator = 'google') :\n",
    "#     print(example['sourceString'])\n",
    "    example['translated'] = ts.translate_text(example['sourceString'], translator=translator, from_language='fr', to_language = 'en')\n",
    "    return example"
   ]
  },
  {
   "cell_type": "code",
   "execution_count": null,
   "id": "b1a4928a",
   "metadata": {},
   "outputs": [],
   "source": [
    "datasets[f\"translated_Google\"] = dataset.map(lambda ex : ts_translate(ex, 'google'))\n",
    "score = metric.compute(predictions=datasets[f\"translated_Google\"]['translated'], references=datasets[f\"translated_Google\"]['targetString'])\n",
    "results[f\"translated_google\"] =  {\"bleu\": score[\"score\"]}\n",
    "results"
   ]
  },
  {
   "cell_type": "markdown",
   "id": "22dccff3",
   "metadata": {},
   "source": [
    "### Translator Helsinky tc-big"
   ]
  },
  {
   "cell_type": "code",
   "execution_count": null,
   "id": "b0529132",
   "metadata": {},
   "outputs": [],
   "source": [
    "translator_tc_big = pipeline(\"translation\", model=\"Helsinki-NLP/opus-mt-tc-big-fr-en\")\n",
    "def translate_tc_big(examples):\n",
    "    examples['translated'] = [t['translation_text'] for t in translator_tc_big(examples['sourceString'])]\n",
    "    return examples\n",
    "datasets[f\"translated_tc-big\"] = dataset.map(translate_tc_big, batched = True)"
   ]
  },
  {
   "cell_type": "code",
   "execution_count": null,
   "id": "62d10c50",
   "metadata": {},
   "outputs": [],
   "source": [
    "score = metric.compute(predictions=datasets[f\"translated_tc-big\"]['translated'], references=datasets[f\"translated_tc-big\"]['targetString'])\n",
    "results[f\"translated_tc-big\"] =  {\"bleu\": score[\"score\"]}\n",
    "results"
   ]
  },
  {
   "cell_type": "markdown",
   "id": "cbe13ae3",
   "metadata": {},
   "source": [
    "### Translator t5-base"
   ]
  },
  {
   "cell_type": "code",
   "execution_count": null,
   "id": "d480d787",
   "metadata": {},
   "outputs": [],
   "source": [
    "translator_t5_large_epoch_3 = pipeline(\"translation\", model=f\"/data/desponds/data/translation_models/model_t5_large_4_4_epoch_3/checkpoint-19065\")\n",
    "def translate_t5(examples):\n",
    "    examples['translated'] = [t['translation_text'] for t in translator_t5_large_epoch_3(examples['sourceString'])]\n",
    "    return examples\n",
    "datasets[f\"translator_t5_large_epoch_3\"] = dataset.map(translate_t5, batched = True)"
   ]
  },
  {
   "cell_type": "code",
   "execution_count": null,
   "id": "72dd1640",
   "metadata": {},
   "outputs": [],
   "source": [
    "score = metric.compute(predictions=datasets[f\"translator_t5_large_epoch_3\"]['translated'], references=datasets[f\"translator_t5_large_epoch_3\"]['targetString'])\n",
    "results[f\"translator_t5_large_epoch_3\"] =  {\"bleu\": score[\"score\"]}\n",
    "results\n",
    "# {'translated_t5_base_epoch_1': {'bleu': 20.89527497402696},\n",
    "#  'translated_t5_base_epoch_3': {'bleu': 26.04773730194601}}"
   ]
  }
 ],
 "metadata": {
  "kernelspec": {
   "display_name": "Python 3 (ipykernel)",
   "language": "python",
   "name": "python3"
  },
  "language_info": {
   "codemirror_mode": {
    "name": "ipython",
    "version": 3
   },
   "file_extension": ".py",
   "mimetype": "text/x-python",
   "name": "python",
   "nbconvert_exporter": "python",
   "pygments_lexer": "ipython3",
   "version": "3.9.13"
  }
 },
 "nbformat": 4,
 "nbformat_minor": 5
}
