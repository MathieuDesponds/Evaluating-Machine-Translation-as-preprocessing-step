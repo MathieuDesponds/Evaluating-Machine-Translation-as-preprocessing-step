{
 "cells": [
  {
   "cell_type": "code",
   "execution_count": null,
   "id": "4943d9d2",
   "metadata": {},
   "outputs": [],
   "source": [
    "from datasets import load_dataset\n",
    "from transformers import AutoTokenizer\n",
    "from transformers import DataCollatorForSeq2Seq\n",
    "from transformers import AutoModelForSeq2SeqLM, Seq2SeqTrainingArguments, Seq2SeqTrainer\n",
    "\n",
    "import evaluate\n",
    "import numpy as np\n",
    "\n",
    "\n",
    "%load_ext autoreload\n",
    "%autoreload 2"
   ]
  },
  {
   "cell_type": "code",
   "execution_count": null,
   "id": "b9655f1a",
   "metadata": {},
   "outputs": [],
   "source": [
    "books = load_dataset(\"opus_books\", \"en-fr\")\n",
    "books = books[\"train\"].train_test_split(test_size=0.2)\n",
    "print(books[\"train\"][0])\n",
    "\n",
    "checkpoint = \"t5-small\"\n",
    "tokenizer = AutoTokenizer.from_pretrained(checkpoint)\n",
    "model = AutoModelForSeq2SeqLM.from_pretrained(checkpoint)"
   ]
  },
  {
   "cell_type": "code",
   "execution_count": null,
   "id": "b787a270",
   "metadata": {},
   "outputs": [],
   "source": [
    "source_lang = \"fr\"\n",
    "target_lang = \"en\"\n",
    "prefix = \"translate French to English: \"\n",
    "\n",
    "def preprocess_function(examples):\n",
    "    inputs = [prefix + example[source_lang] for example in examples[\"translation\"]]\n",
    "    targets = [example[target_lang] for example in examples[\"translation\"]]\n",
    "    model_inputs = tokenizer(inputs, text_target=targets, max_length=128, truncation=True)\n",
    "    return model_inputs\n",
    "\n",
    "tokenized_books = books.map(preprocess_function, batched=True)\n",
    "\n",
    "data_collator = DataCollatorForSeq2Seq(tokenizer=tokenizer, model=checkpoint)"
   ]
  },
  {
   "cell_type": "code",
   "execution_count": null,
   "id": "3d059bba",
   "metadata": {
    "scrolled": false
   },
   "outputs": [],
   "source": [
    "metric = evaluate.load(\"sacrebleu\")\n",
    "\n",
    "def postprocess_text(preds, labels):\n",
    "    preds = [pred.strip() for pred in preds]\n",
    "    labels = [[label.strip()] for label in labels]\n",
    "    return preds, labels\n",
    "\n",
    "def compute_metrics(eval_preds):\n",
    "    preds, labels = eval_preds\n",
    "    if isinstance(preds, tuple):\n",
    "        preds = preds[0]\n",
    "    decoded_preds = tokenizer.batch_decode(preds, skip_special_tokens=True)\n",
    "    labels = np.where(labels != -100, labels, tokenizer.pad_token_id)\n",
    "    decoded_labels = tokenizer.batch_decode(labels, skip_special_tokens=True)\n",
    "    decoded_preds, decoded_labels = postprocess_text(decoded_preds, decoded_labels)\n",
    "    result = metric.compute(predictions=decoded_preds, references=decoded_labels)\n",
    "    result = {\"bleu\": result[\"score\"]}\n",
    "    prediction_lens = [np.count_nonzero(pred != tokenizer.pad_token_id) for pred in preds]\n",
    "    result[\"gen_len\"] = np.mean(prediction_lens)\n",
    "    result = {k: round(v, 4) for k, v in result.items()}\n",
    "    return result"
   ]
  },
  {
   "cell_type": "code",
   "execution_count": null,
   "id": "ebd0f865",
   "metadata": {},
   "outputs": [],
   "source": [
    "num_epoch = 5\n",
    "def get_training_arguments(quartile):\n",
    "    return Seq2SeqTrainingArguments(\n",
    "    output_dir=f\"/data/desponds/data/translation_models/model_{quartile}_4_epoch_{num_epoch}\",\n",
    "    evaluation_strategy=\"epoch\",\n",
    "    learning_rate=2e-5,\n",
    "    per_device_train_batch_size=16,\n",
    "    per_device_eval_batch_size=16,\n",
    "    weight_decay=0.01,\n",
    "    save_total_limit=3,\n",
    "    save_strategy=\"epoch\",\n",
    "    num_train_epochs=num_epoch ,\n",
    "    predict_with_generate=True,\n",
    "    fp16=True,\n",
    ")\n",
    "\n",
    "def get_trainer(quartile):\n",
    "    return Seq2SeqTrainer(\n",
    "    model=model,\n",
    "    args=training_args,\n",
    "    train_dataset= tokenized_books[\"train\"] if quartile == 4 else tokenized_books[\"train\"].train_test_split(train_size=quartile/4.)['train'],\n",
    "    eval_dataset=tokenized_books[\"test\"],\n",
    "    tokenizer=tokenizer,\n",
    "    data_collator=data_collator,\n",
    "    compute_metrics=compute_metrics,\n",
    ")\n",
    "\n",
    "for quartile in range(4,4+1):\n",
    "    training_args = get_training_arguments(quartile)\n",
    "    trainer = get_trainer(quartile)\n",
    "    trainer.train()"
   ]
  },
  {
   "cell_type": "code",
   "execution_count": null,
   "id": "3efffb9f",
   "metadata": {},
   "outputs": [],
   "source": [
    "quartile = 4\n",
    "training_args = get_training_arguments(quartile)\n",
    "trainer = get_trainer(quartile)\n",
    "trainer.train()"
   ]
  },
  {
   "cell_type": "code",
   "execution_count": null,
   "id": "21c556fb",
   "metadata": {
    "scrolled": true
   },
   "outputs": [],
   "source": [
    "from transformers import pipeline\n",
    "text = \"Les légumes partagent des ressources avec des bactéries azotantes.\"\n",
    "translator_1_4 = pipeline(\"translation\", model=f\"/data/desponds/data/translation_models/model_1_4/checkpoint-795\")\n",
    "translator_2_4 = pipeline(\"translation\", model=f\"/data/desponds/data/translation_models/model_2_4/checkpoint-1589\")\n",
    "translator_3_4 = pipeline(\"translation\", model=f\"/data/desponds/data/translation_models/model_3_4/checkpoint-2383\")\n",
    "translator_4_4 = pipeline(\"translation\", model=f\"/data/desponds/data/translation_models/model_4_4/checkpoint-9500\")\n",
    "\n",
    "translators = [None, translator_1_4, translator_2_4, translator_3_4, translator_4_4]"
   ]
  },
  {
   "cell_type": "code",
   "execution_count": null,
   "id": "42a599fa",
   "metadata": {},
   "outputs": [],
   "source": [
    "texts = ['Ce n’est pas parce que votre a exprimé ouvertement son orientation sexuelle que tout doit changer. Si vous avez aimé aller au cinéma ensemble ou jouer à des jeux vidéos, continuez simplement à faire ces choses. Il se peut que votre ami se soit exprimé à des personnes moins compréhensives. Si tel est le cas, discutez avec les autres amis et essayez de les convaincre de se montrer conciliants et d’être de bons amis.']\n",
    "for i,translator in enumerate(translators_epoch_1[1:]):\n",
    "    print(f\"\\nTranslator {i+1}/4 with 1 epoch\")\n",
    "    print(translator(texts)[0]['translation_text'])"
   ]
  },
  {
   "cell_type": "code",
   "execution_count": null,
   "id": "2053bcc8",
   "metadata": {},
   "outputs": [],
   "source": [
    "from translation import translate_fr_en\n",
    "translate_fr_en(texts)"
   ]
  },
  {
   "cell_type": "code",
   "execution_count": null,
   "id": "4bad0bea",
   "metadata": {},
   "outputs": [],
   "source": [
    "import tensorflow as tf\n",
    "from tensorflow.python.summary.summary_iterator import summary_iterator\n",
    "import pandas as pd\n",
    "eval_bleu, epoch, loss, eval_loss = [], [], [], []\n",
    "for event in summary_iterator('/data/desponds/data/translation_models/model_4_4/runs/Apr20_16-40-51_students/events.out.tfevents.1682001651.students.1648792.6'):\n",
    "    for value in event.summary.value:\n",
    "#         print(value.tag, value.step, value.simple_value)\n",
    "        if value.tag == 'train/loss' or value.tag == 'eval/loss' and value.HasField('simple_value'):\n",
    "            loss.append(value.simple_value)\n",
    "        elif value.tag == 'train/epoch' and value.HasField('simple_value'):\n",
    "            epoch.append(value.simple_value)\n",
    "        if value.tag == 'eval/loss' and value.HasField('simple_value'):\n",
    "            eval_loss.append(value.simple_value)\n",
    "        elif value.tag == 'eval/bleu' and value.HasField('simple_value'):\n",
    "            eval_bleu.append(value.simple_value)\n",
    "#         elif value.tag == 'train/epoch' and value.HasField('simple_value'):\n",
    "#             epoch.append(value.simple_value)\n",
    "df_eval = pd.DataFrame({'eval_loss' : eval_loss, 'eval_bleu':eval_bleu})\n",
    "df_train = pd.DataFrame({'epoch': epoch[:len(loss)], 'loss' : loss})\n",
    "df_eval"
   ]
  },
  {
   "cell_type": "code",
   "execution_count": null,
   "id": "bef75de9",
   "metadata": {},
   "outputs": [],
   "source": [
    "df_train.plot(kind = 'scatter', x = 'epoch', y = 'loss')"
   ]
  },
  {
   "cell_type": "markdown",
   "id": "6b52506c",
   "metadata": {},
   "source": [
    "# Use it : Review Classification"
   ]
  },
  {
   "cell_type": "code",
   "execution_count": null,
   "id": "27696d26",
   "metadata": {},
   "outputs": [],
   "source": [
    "from transformers import pipeline\n",
    "text = \"Les légumes partagent des ressources avec des bactéries azotantes.\"\n",
    "translator_1_4_epoch_1 = pipeline(\"translation\", model=f\"/data/desponds/data/translation_models/model_1_4_epoch_1/checkpoint-795\")\n",
    "translator_2_4_epoch_1 = pipeline(\"translation\", model=f\"/data/desponds/data/translation_models/model_2_4_epoch_1/checkpoint-1589\")\n",
    "translator_3_4_epoch_1 = pipeline(\"translation\", model=f\"/data/desponds/data/translation_models/model_3_4_epoch_1/checkpoint-2383\")\n",
    "translator_4_4_epoch_1 = pipeline(\"translation\", model=f\"/data/desponds/data/translation_models/model_4_4_epoch_1/checkpoint-3178\")\n",
    "\n",
    "translators_epoch_1 = [None, translator_1_4_epoch_1, translator_2_4_epoch_1, translator_3_4_epoch_1, translator_4_4_epoch_1]"
   ]
  },
  {
   "cell_type": "code",
   "execution_count": null,
   "id": "9a276a67",
   "metadata": {
    "scrolled": true
   },
   "outputs": [],
   "source": [
    "#Load dataset review classification \n",
    "from preprocessing import preprocessing_review_classification\n",
    "datasets, tokenized = preprocessing_review_classification(langs = ['fr'])"
   ]
  },
  {
   "cell_type": "code",
   "execution_count": null,
   "id": "10be418e",
   "metadata": {
    "scrolled": true
   },
   "outputs": [],
   "source": [
    "import pickle\n",
    "import torch\n",
    "from translation import translate_fr_en\n",
    "def translate_fr_en_rc(examples, translator):\n",
    "    examples['text'] = translate_fr_en(examples['text'], translator)\n",
    "    return examples\n",
    "dataset = {}\n",
    "dataset['base'] = datasets['fr']['test']\n",
    "for i in range(1,4+1):\n",
    "    dataset[f\"translated_{i}_4\"] = datasets['fr']['test'].map(lambda examples :  translate_fr_en_rc(examples, translator= translators_epoch_1[i]), batched = True)\n",
    "    with open(f'/data/desponds/data/Classification/translated_dataset/translated_epoch_3_{i}_4.pickle', 'wb') as handle:\n",
    "        pickle.dump(dataset[f\"translated_{i}_4\"], handle)                                                                                            "
   ]
  },
  {
   "cell_type": "code",
   "execution_count": null,
   "id": "0930cfd2",
   "metadata": {},
   "outputs": [],
   "source": [
    "with open(f'/data/desponds/data/Classification/translated_dataset/translated_epoch_1_{i}_4.pickle', 'wb') as handle:\n",
    "    pickle.dump(dataset, handle)"
   ]
  },
  {
   "cell_type": "code",
   "execution_count": null,
   "id": "4023ca53",
   "metadata": {},
   "outputs": [],
   "source": [
    "translator_4_4_epoch_5 = pipeline(\"translation\", model=f\"/data/desponds/data/translation_models/model_4_4_epoch_5/checkpoint-15890\")\n",
    "dataset = {}\n",
    "dataset[f\"translated_epoch_5_4_4\"] = tokenized['fr']['test'].map(lambda examples :  translate_fr_en_rc(examples, translator= translator_4_4_epoch_5), batched = True)\n",
    "with open(f'/data/desponds/data/Classification/translated_dataset/translated_epoch_5_4_4.pickle', 'wb') as handle:\n",
    "    pickle.dump(dataset[f\"translated_epoch_5_4_4\"], handle)    "
   ]
  },
  {
   "cell_type": "code",
   "execution_count": null,
   "id": "5dc7f5ac",
   "metadata": {},
   "outputs": [],
   "source": []
  }
 ],
 "metadata": {
  "kernelspec": {
   "display_name": "Python 3 (ipykernel)",
   "language": "python",
   "name": "python3"
  },
  "language_info": {
   "codemirror_mode": {
    "name": "ipython",
    "version": 3
   },
   "file_extension": ".py",
   "mimetype": "text/x-python",
   "name": "python",
   "nbconvert_exporter": "python",
   "pygments_lexer": "ipython3",
   "version": "3.9.13"
  }
 },
 "nbformat": 4,
 "nbformat_minor": 5
}
