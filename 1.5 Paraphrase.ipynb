{
 "cells": [
  {
   "cell_type": "code",
   "execution_count": null,
   "id": "e19d1552",
   "metadata": {},
   "outputs": [],
   "source": [
    "import torch\n",
    "%load_ext autoreload\n",
    "%autoreload 2\n",
    "print(torch.cuda.is_available(),torch.cuda.current_device())\n",
    "# torch.cuda.device(1)\n",
    "# torch.cuda.get_device_name(0)\n",
    "data_path = \"/data/desponds/data/Paraphrase\""
   ]
  },
  {
   "cell_type": "code",
   "execution_count": null,
   "id": "77e2b22a",
   "metadata": {
    "scrolled": true
   },
   "outputs": [],
   "source": [
    "from preprocessing import preprocessing_paraphrasing\n",
    "datasets, tokenized = preprocessing_paraphrasing()"
   ]
  },
  {
   "cell_type": "code",
   "execution_count": null,
   "id": "6778a2c4",
   "metadata": {},
   "outputs": [],
   "source": [
    "datasets['en']['train'][0], datasets['fr']['train'][9873]"
   ]
  },
  {
   "cell_type": "code",
   "execution_count": null,
   "id": "1ef5e40b",
   "metadata": {},
   "outputs": [],
   "source": [
    "from training import get_trainers_paraphrasing\n",
    "trainers = get_trainers_paraphrasing(tokenized)"
   ]
  },
  {
   "cell_type": "code",
   "execution_count": null,
   "id": "8e97286c",
   "metadata": {
    "scrolled": true
   },
   "outputs": [],
   "source": [
    "from training import get_models_paraphrasing\n",
    "models = get_models_paraphrasing(trainers)"
   ]
  },
  {
   "cell_type": "markdown",
   "id": "0b147f17",
   "metadata": {},
   "source": [
    "## Translation"
   ]
  },
  {
   "cell_type": "code",
   "execution_count": null,
   "id": "af88317e",
   "metadata": {},
   "outputs": [],
   "source": [
    "from translation import translate_fr_en_paraphrase\n",
    "\n",
    "# Translate the test split of the french dataset\n",
    "translated_fr_en = datasets['fr']['test'].map(translate_fr_en_paraphrase, batched=True, batch_size = 32)\n",
    "\n",
    "# import pickle\n",
    "# with open(f\"{data_path}/translated_dataset.pickle\", 'wb') as handle:\n",
    "#     pickle.dump(translated_fr_en, handle)"
   ]
  },
  {
   "cell_type": "code",
   "execution_count": null,
   "id": "5c66f4ae",
   "metadata": {},
   "outputs": [],
   "source": [
    "import pickle\n",
    "with open(f\"{data_path}/translated_dataset.pickle\", 'rb') as handle2:\n",
    "    translated_fr_en = pickle.load(handle2)"
   ]
  },
  {
   "cell_type": "code",
   "execution_count": null,
   "id": "9f9ba91f",
   "metadata": {},
   "outputs": [],
   "source": [
    "tokenized_fr_en = translated_fr_en.map(lambda ex : preprocess(ex,'en'))"
   ]
  },
  {
   "cell_type": "markdown",
   "id": "eb5c0cdd",
   "metadata": {},
   "source": [
    "## Evaluation"
   ]
  },
  {
   "cell_type": "markdown",
   "id": "d8760e12",
   "metadata": {},
   "source": [
    "### Dataset FR with CamemBERT"
   ]
  },
  {
   "cell_type": "code",
   "execution_count": null,
   "id": "f10d3827",
   "metadata": {},
   "outputs": [],
   "source": [
    "import numpy as np\n",
    "logits,labels, test = trainers['fr'].predict(tokenized['fr']['test'])\n",
    "print(test) "
   ]
  },
  {
   "cell_type": "markdown",
   "id": "e3bd34e5",
   "metadata": {},
   "source": [
    "### Dataset EN with RoBERTa"
   ]
  },
  {
   "cell_type": "code",
   "execution_count": null,
   "id": "30b07bd0",
   "metadata": {
    "scrolled": true
   },
   "outputs": [],
   "source": [
    "logits,labels, test = trainers['en'].predict(tokenized['en']['test'])\n",
    "print(test) "
   ]
  },
  {
   "cell_type": "markdown",
   "id": "84b0b677",
   "metadata": {},
   "source": [
    "### Dataset FR with RoBERTa"
   ]
  },
  {
   "cell_type": "code",
   "execution_count": null,
   "id": "4770ac9f",
   "metadata": {},
   "outputs": [],
   "source": [
    "import numpy as np\n",
    "logits,labels, test = trainers['en'].predict(tokenized_fr_en)\n",
    "print(test)"
   ]
  },
  {
   "cell_type": "code",
   "execution_count": null,
   "id": "f138b0bd",
   "metadata": {},
   "outputs": [],
   "source": [
    "logits,labels, test = trainers['en'].predict(tokenized['fr']['test'])\n",
    "print(test) #{'test_loss': 1.7237563133239746, 'test_accuracy': 0.5955, 'test_runtime': 10.9047, 'test_samples_per_second': 183.408, 'test_steps_per_second': 5.777}"
   ]
  },
  {
   "cell_type": "markdown",
   "id": "510f73b5",
   "metadata": {},
   "source": [
    "## Results"
   ]
  },
  {
   "cell_type": "code",
   "execution_count": null,
   "id": "41622d7d",
   "metadata": {
    "scrolled": true
   },
   "outputs": [],
   "source": [
    "import pandas as pd\n",
    "data = {\n",
    "    'task' : ['Paraphrase', 'Paraphrase', 'Paraphrase', 'Paraphrase'],\n",
    "    'model'   : ['RoBERTa', 'RoBERTa', 'RoBERTa', 'CamemBERT'],\n",
    "    'train_dataset' : [ 'paws-x_en', 'paws-x_en', 'paws-x_en', 'paws-x_fr'],\n",
    "    'nb_sample_train' : [49401,49401,49401, 49101],\n",
    "    'test_dataset' : ['paws-x_en', 'paws-x_fr', 'paws-x_fr_translated', 'paws-x_fr'],\n",
    "    'translated' : ['no', 'no', 'yes', 'no'],\n",
    "    'accuracy'    : [ 0.9465, 0.5955,  0.9110, 0.8990 ]\n",
    "}\n",
    "results = pd.DataFrame(data)\n",
    "results"
   ]
  }
 ],
 "metadata": {
  "kernelspec": {
   "display_name": "Python 3 (ipykernel)",
   "language": "python",
   "name": "python3"
  },
  "language_info": {
   "codemirror_mode": {
    "name": "ipython",
    "version": 3
   },
   "file_extension": ".py",
   "mimetype": "text/x-python",
   "name": "python",
   "nbconvert_exporter": "python",
   "pygments_lexer": "ipython3",
   "version": "3.9.13"
  }
 },
 "nbformat": 4,
 "nbformat_minor": 5
}
