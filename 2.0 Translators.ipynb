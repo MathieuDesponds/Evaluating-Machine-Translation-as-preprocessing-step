{
 "cells": [
  {
   "cell_type": "code",
   "execution_count": 80,
   "id": "4943d9d2",
   "metadata": {},
   "outputs": [],
   "source": [
    "from datasets import load_dataset\n",
    "from transformers import AutoTokenizer\n",
    "from transformers import DataCollatorForSeq2Seq\n",
    "from transformers import AutoModelForSeq2SeqLM, Seq2SeqTrainingArguments, Seq2SeqTrainer\n",
    "\n",
    "import evaluate\n",
    "import numpy as np\n",
    "\n",
    "\n",
    "%load_ext autoreload\n",
    "%autoreload 2"
   ]
  },
  {
   "cell_type": "code",
   "execution_count": 81,
   "id": "b9655f1a",
   "metadata": {},
   "outputs": [
    {
     "name": "stdout",
     "output_type": "stream",
     "text": [
      "Downloading and preparing dataset opus_books/en-fr to /home/desponds/.cache/huggingface/datasets/opus_books/en-fr/1.0.0/e8f950a4f32dc39b7f9088908216cd2d7e21ac35f893d04d39eb594746af2daf...\n"
     ]
    },
    {
     "data": {
      "application/vnd.jupyter.widget-view+json": {
       "model_id": "",
       "version_major": 2,
       "version_minor": 0
      },
      "text/plain": [
       "Generating train split:   0%|          | 0/127085 [00:00<?, ? examples/s]"
      ]
     },
     "metadata": {},
     "output_type": "display_data"
    },
    {
     "name": "stdout",
     "output_type": "stream",
     "text": [
      "Dataset opus_books downloaded and prepared to /home/desponds/.cache/huggingface/datasets/opus_books/en-fr/1.0.0/e8f950a4f32dc39b7f9088908216cd2d7e21ac35f893d04d39eb594746af2daf. Subsequent calls will reuse this data.\n"
     ]
    },
    {
     "data": {
      "application/vnd.jupyter.widget-view+json": {
       "model_id": "7a34c5eb34ce4102beaae7fc4e3dbf13",
       "version_major": 2,
       "version_minor": 0
      },
      "text/plain": [
       "  0%|          | 0/1 [00:00<?, ?it/s]"
      ]
     },
     "metadata": {},
     "output_type": "display_data"
    },
    {
     "name": "stdout",
     "output_type": "stream",
     "text": [
      "{'id': '31134', 'translation': {'en': '\"How is that?\" asked my uncle, in surprise.', 'fr': '-- Comment cela? demanda mon oncle étonné.'}}\n"
     ]
    }
   ],
   "source": [
    "books = load_dataset(\"opus_books\", \"en-fr\")\n",
    "books = books[\"train\"].train_test_split(test_size=0.2)\n",
    "print(books[\"train\"][0])\n",
    "\n",
    "checkpoint = \"t5-small\"\n",
    "tokenizer = AutoTokenizer.from_pretrained(checkpoint)\n",
    "model = AutoModelForSeq2SeqLM.from_pretrained(checkpoint)"
   ]
  },
  {
   "cell_type": "code",
   "execution_count": 83,
   "id": "b787a270",
   "metadata": {},
   "outputs": [
    {
     "data": {
      "application/vnd.jupyter.widget-view+json": {
       "model_id": "",
       "version_major": 2,
       "version_minor": 0
      },
      "text/plain": [
       "Map:   0%|          | 0/101668 [00:00<?, ? examples/s]"
      ]
     },
     "metadata": {},
     "output_type": "display_data"
    },
    {
     "data": {
      "application/vnd.jupyter.widget-view+json": {
       "model_id": "",
       "version_major": 2,
       "version_minor": 0
      },
      "text/plain": [
       "Map:   0%|          | 0/25417 [00:00<?, ? examples/s]"
      ]
     },
     "metadata": {},
     "output_type": "display_data"
    }
   ],
   "source": [
    "source_lang = \"fr\"\n",
    "target_lang = \"en\"\n",
    "prefix = \"translate French to English: \"\n",
    "\n",
    "def preprocess_function(examples):\n",
    "    inputs = [prefix + example[source_lang] for example in examples[\"translation\"]]\n",
    "    targets = [example[target_lang] for example in examples[\"translation\"]]\n",
    "    model_inputs = tokenizer(inputs, text_target=targets, max_length=128, truncation=True)\n",
    "    return model_inputs\n",
    "\n",
    "tokenized_books = books.map(preprocess_function, batched=True)\n",
    "\n",
    "data_collator = DataCollatorForSeq2Seq(tokenizer=tokenizer, model=checkpoint)"
   ]
  },
  {
   "cell_type": "code",
   "execution_count": 84,
   "id": "3d059bba",
   "metadata": {
    "scrolled": false
   },
   "outputs": [],
   "source": [
    "metric = evaluate.load(\"sacrebleu\")\n",
    "\n",
    "def postprocess_text(preds, labels):\n",
    "    preds = [pred.strip() for pred in preds]\n",
    "    labels = [[label.strip()] for label in labels]\n",
    "    return preds, labels\n",
    "\n",
    "def compute_metrics(eval_preds):\n",
    "    preds, labels = eval_preds\n",
    "    if isinstance(preds, tuple):\n",
    "        preds = preds[0]\n",
    "    decoded_preds = tokenizer.batch_decode(preds, skip_special_tokens=True)\n",
    "    labels = np.where(labels != -100, labels, tokenizer.pad_token_id)\n",
    "    decoded_labels = tokenizer.batch_decode(labels, skip_special_tokens=True)\n",
    "    decoded_preds, decoded_labels = postprocess_text(decoded_preds, decoded_labels)\n",
    "    result = metric.compute(predictions=decoded_preds, references=decoded_labels)\n",
    "    result = {\"bleu\": result[\"score\"]}\n",
    "    prediction_lens = [np.count_nonzero(pred != tokenizer.pad_token_id) for pred in preds]\n",
    "    result[\"gen_len\"] = np.mean(prediction_lens)\n",
    "    result = {k: round(v, 4) for k, v in result.items()}\n",
    "    return result"
   ]
  },
  {
   "cell_type": "code",
   "execution_count": null,
   "id": "ebd0f865",
   "metadata": {
    "scrolled": true
   },
   "outputs": [],
   "source": [
    "num_epoch = 1\n",
    "def get_training_arguments(quartile):\n",
    "    return Seq2SeqTrainingArguments(\n",
    "    output_dir=f\"/data/desponds/data/translation_models/model_{quartile}_4_epoch_{num_epoch}\",\n",
    "    evaluation_strategy=\"epoch\",\n",
    "    learning_rate=2e-5,\n",
    "    per_device_train_batch_size=16,\n",
    "    per_device_eval_batch_size=16,\n",
    "    weight_decay=0.01,\n",
    "    save_total_limit=3,\n",
    "    save_strategy=\"epoch\",\n",
    "    num_train_epochs=num_epoch ,\n",
    "    predict_with_generate=True,\n",
    "    fp16=True,\n",
    ")\n",
    "\n",
    "def get_trainer(quartile):\n",
    "    if quartile == 4 :\n",
    "        train_set = tokenized_books[\"train\"]\n",
    "    elif quartile == 0:\n",
    "        train_set = tokenized_books[\"train\"].select([1,2,3,4])\n",
    "    else :\n",
    "        tokenized_books[\"train\"].train_test_split(train_size=quartile/4.)['train']\n",
    "    return Seq2SeqTrainer(\n",
    "    model=model,\n",
    "    args=training_args,\n",
    "    train_dataset= train_set ,\n",
    "    eval_dataset=tokenized_books[\"test\"],\n",
    "    tokenizer=tokenizer,\n",
    "    data_collator=data_collator,\n",
    "    compute_metrics=compute_metrics,\n",
    ")\n",
    "\n",
    "for quartile in range(0,1):\n",
    "    training_args = get_training_arguments(quartile)\n",
    "    trainer = get_trainer(quartile)\n",
    "    trainer.train()"
   ]
  },
  {
   "cell_type": "code",
   "execution_count": null,
   "id": "21c556fb",
   "metadata": {
    "scrolled": true
   },
   "outputs": [],
   "source": [
    "from transformers import pipeline\n",
    "text = \"Les légumes partagent des ressources avec des bactéries azotantes.\"\n",
    "translator_1_4 = pipeline(\"translation\", model=f\"/data/desponds/data/translation_models/model_1_4/checkpoint-795\")\n",
    "translator_2_4 = pipeline(\"translation\", model=f\"/data/desponds/data/translation_models/model_2_4/checkpoint-1589\")\n",
    "translator_3_4 = pipeline(\"translation\", model=f\"/data/desponds/data/translation_models/model_3_4/checkpoint-2383\")\n",
    "translator_4_4 = pipeline(\"translation\", model=f\"/data/desponds/data/translation_models/model_4_4/checkpoint-9500\")\n",
    "\n",
    "translators = [None, translator_1_4, translator_2_4, translator_3_4, translator_4_4]"
   ]
  },
  {
   "cell_type": "code",
   "execution_count": null,
   "id": "42a599fa",
   "metadata": {},
   "outputs": [],
   "source": [
    "texts = ['Ce n’est pas parce que votre a exprimé ouvertement son orientation sexuelle que tout doit changer. Si vous avez aimé aller au cinéma ensemble ou jouer à des jeux vidéos, continuez simplement à faire ces choses. Il se peut que votre ami se soit exprimé à des personnes moins compréhensives. Si tel est le cas, discutez avec les autres amis et essayez de les convaincre de se montrer conciliants et d’être de bons amis.']\n",
    "for i,translator in enumerate(translators_epoch_1[1:]):\n",
    "    print(f\"\\nTranslator {i+1}/4 with 1 epoch\")\n",
    "    print(translator(texts)[0]['translation_text'])"
   ]
  },
  {
   "cell_type": "code",
   "execution_count": null,
   "id": "2053bcc8",
   "metadata": {},
   "outputs": [],
   "source": [
    "from translation import translate_fr_en\n",
    "translate_fr_en(texts)"
   ]
  },
  {
   "cell_type": "code",
   "execution_count": null,
   "id": "4bad0bea",
   "metadata": {},
   "outputs": [],
   "source": [
    "import tensorflow as tf\n",
    "from tensorflow.python.summary.summary_iterator import summary_iterator\n",
    "import pandas as pd\n",
    "eval_bleu, epoch, loss, eval_loss = [], [], [], []\n",
    "for event in summary_iterator('/data/desponds/data/translation_models/model_4_4/runs/Apr20_16-40-51_students/events.out.tfevents.1682001651.students.1648792.6'):\n",
    "    for value in event.summary.value:\n",
    "#         print(value.tag, value.step, value.simple_value)\n",
    "        if value.tag == 'train/loss' or value.tag == 'eval/loss' and value.HasField('simple_value'):\n",
    "            loss.append(value.simple_value)\n",
    "        elif value.tag == 'train/epoch' and value.HasField('simple_value'):\n",
    "            epoch.append(value.simple_value)\n",
    "        if value.tag == 'eval/loss' and value.HasField('simple_value'):\n",
    "            eval_loss.append(value.simple_value)\n",
    "        elif value.tag == 'eval/bleu' and value.HasField('simple_value'):\n",
    "            eval_bleu.append(value.simple_value)\n",
    "#         elif value.tag == 'train/epoch' and value.HasField('simple_value'):\n",
    "#             epoch.append(value.simple_value)\n",
    "df_eval = pd.DataFrame({'eval_loss' : eval_loss, 'eval_bleu':eval_bleu})\n",
    "df_train = pd.DataFrame({'epoch': epoch[:len(loss)], 'loss' : loss})\n",
    "df_eval"
   ]
  },
  {
   "cell_type": "code",
   "execution_count": null,
   "id": "bef75de9",
   "metadata": {},
   "outputs": [],
   "source": [
    "df_train.plot(kind = 'scatter', x = 'epoch', y = 'loss')"
   ]
  },
  {
   "cell_type": "markdown",
   "id": "6b52506c",
   "metadata": {},
   "source": [
    "# Use it : Review Classification"
   ]
  },
  {
   "cell_type": "code",
   "execution_count": 65,
   "id": "27696d26",
   "metadata": {},
   "outputs": [],
   "source": [
    "from transformers import pipeline\n",
    "text = \"Les légumes partagent des ressources avec des bactéries azotantes.\"\n",
    "translator_1_4_epoch_1 = pipeline(\"translation\", model=f\"/data/desponds/data/translation_models/model_1_4_epoch_1/checkpoint-795\")\n",
    "translator_2_4_epoch_1 = pipeline(\"translation\", model=f\"/data/desponds/data/translation_models/model_2_4_epoch_1/checkpoint-1589\")\n",
    "translator_3_4_epoch_1 = pipeline(\"translation\", model=f\"/data/desponds/data/translation_models/model_3_4_epoch_1/checkpoint-2383\")\n",
    "translator_4_4_epoch_1 = pipeline(\"translation\", model=f\"/data/desponds/data/translation_models/model_4_4_epoch_1/checkpoint-3178\")\n",
    "\n",
    "translators_epoch_1 = [None, translator_1_4_epoch_1, translator_2_4_epoch_1, translator_3_4_epoch_1, translator_4_4_epoch_1]"
   ]
  },
  {
   "cell_type": "code",
   "execution_count": null,
   "id": "9a276a67",
   "metadata": {
    "scrolled": true
   },
   "outputs": [],
   "source": [
    "#Load dataset review classification \n",
    "from preprocessing import preprocessing_review_classification\n",
    "datasets, tokenized = preprocessing_review_classification(langs = ['fr'])"
   ]
  },
  {
   "cell_type": "code",
   "execution_count": null,
   "id": "10be418e",
   "metadata": {
    "scrolled": true
   },
   "outputs": [],
   "source": [
    "import pickle\n",
    "import torch\n",
    "from translation import translate_fr_en\n",
    "def translate_fr_en_rc(examples, translator):\n",
    "    examples['text'] = translate_fr_en(examples['text'], translator)\n",
    "    return examples\n",
    "dataset = {}\n",
    "dataset['base'] = datasets['fr']['test']\n",
    "for i in range(1,4+1):\n",
    "    dataset[f\"translated_{i}_4\"] = datasets['fr']['test'].map(lambda examples :  translate_fr_en_rc(examples, translator= translators_epoch_1[i]), batched = True)\n",
    "    with open(f'/data/desponds/data/Classification/translated_dataset/translated_epoch_3_{i}_4.pickle', 'wb') as handle:\n",
    "        pickle.dump(dataset[f\"translated_{i}_4\"], handle)                                                                                            "
   ]
  },
  {
   "cell_type": "code",
   "execution_count": null,
   "id": "0930cfd2",
   "metadata": {},
   "outputs": [],
   "source": [
    "with open(f'/data/desponds/data/Classification/translated_dataset/translated_epoch_1_{i}_4.pickle', 'wb') as handle:\n",
    "    pickle.dump(dataset, handle)"
   ]
  },
  {
   "cell_type": "code",
   "execution_count": null,
   "id": "4023ca53",
   "metadata": {},
   "outputs": [],
   "source": [
    "translator_4_4_epoch_5 = pipeline(\"translation\", model=f\"/data/desponds/data/translation_models/model_4_4_epoch_5/checkpoint-15890\")\n",
    "dataset = {}\n",
    "dataset[f\"translated_epoch_5_4_4\"] = tokenized['fr']['test'].map(lambda examples :  translate_fr_en_rc(examples, translator= translator_4_4_epoch_5), batched = True)\n",
    "with open(f'/data/desponds/data/Classification/translated_dataset/translated_epoch_5_4_4.pickle', 'wb') as handle:\n",
    "    pickle.dump(dataset[f\"translated_epoch_5_4_4\"], handle)    "
   ]
  },
  {
   "cell_type": "code",
   "execution_count": null,
   "id": "5dc7f5ac",
   "metadata": {
    "scrolled": true
   },
   "outputs": [],
   "source": [
    "from transformers import pipeline\n",
    "translator_0_4 = pipeline(\"translation\", model=f\"t5-small\")"
   ]
  },
  {
   "cell_type": "markdown",
   "id": "00dd2c5d",
   "metadata": {},
   "source": [
    "# Benchmarking"
   ]
  },
  {
   "cell_type": "code",
   "execution_count": 6,
   "id": "ce5c4e1e",
   "metadata": {},
   "outputs": [],
   "source": [
    "from datasets import load_dataset\n",
    "import evaluate"
   ]
  },
  {
   "cell_type": "code",
   "execution_count": 72,
   "id": "6fc26d75",
   "metadata": {},
   "outputs": [
    {
     "name": "stderr",
     "output_type": "stream",
     "text": [
      "Found cached dataset tatoeba_mt (/home/desponds/.cache/huggingface/datasets/Helsinki-NLP___tatoeba_mt/eng-fra/0.0.0/01e819f3f64a772a2ca70949061d295d3a2dc99d05183fe4776a3be23f75f619)\n"
     ]
    },
    {
     "data": {
      "application/vnd.jupyter.widget-view+json": {
       "model_id": "",
       "version_major": 2,
       "version_minor": 0
      },
      "text/plain": [
       "Map:   0%|          | 0/2536 [00:00<?, ? examples/s]"
      ]
     },
     "metadata": {},
     "output_type": "display_data"
    }
   ],
   "source": [
    "def preprocess(dataset):\n",
    "    def reformat(examples):\n",
    "        examples['sourceLang'], examples['targetLang'] = examples['targetlang'] ,examples['sourceLang']  \n",
    "        examples['sourceString'], examples['targetString'] = examples['targetString'] ,examples['sourceString']  \n",
    "        return examples\n",
    "    dataset = dataset.map(reformat)\n",
    "    dataset = dataset.remove_columns(['targetlang'])\n",
    "    return dataset\n",
    "def translate_fr_benchmarking(examples, translator = None):\n",
    "    if translator == None : \n",
    "        examples['translated'] = translate_fr_en(examples['sourceString'])\n",
    "    else :\n",
    "        examples['translated'] = translate_fr_en(examples['sourceString'],translator)\n",
    "    return examples\n",
    "dataset = load_dataset('Helsinki-NLP/tatoeba_mt', 'eng-fra', split = 'test[:20%]')\n",
    "dataset = preprocess(dataset)"
   ]
  },
  {
   "cell_type": "code",
   "execution_count": 73,
   "id": "2228ee1e",
   "metadata": {},
   "outputs": [
    {
     "data": {
      "text/plain": [
       "Dataset({\n",
       "    features: ['sourceLang', 'sourceString', 'targetString', 'targetLang'],\n",
       "    num_rows: 2536\n",
       "})"
      ]
     },
     "execution_count": 73,
     "metadata": {},
     "output_type": "execute_result"
    }
   ],
   "source": [
    "dataset"
   ]
  },
  {
   "cell_type": "code",
   "execution_count": 74,
   "id": "d566e41c",
   "metadata": {},
   "outputs": [
    {
     "data": {
      "application/vnd.jupyter.widget-view+json": {
       "model_id": "",
       "version_major": 2,
       "version_minor": 0
      },
      "text/plain": [
       "Map:   0%|          | 0/2536 [00:00<?, ? examples/s]"
      ]
     },
     "metadata": {},
     "output_type": "display_data"
    },
    {
     "data": {
      "application/vnd.jupyter.widget-view+json": {
       "model_id": "",
       "version_major": 2,
       "version_minor": 0
      },
      "text/plain": [
       "Map:   0%|          | 0/2536 [00:00<?, ? examples/s]"
      ]
     },
     "metadata": {},
     "output_type": "display_data"
    },
    {
     "data": {
      "application/vnd.jupyter.widget-view+json": {
       "model_id": "",
       "version_major": 2,
       "version_minor": 0
      },
      "text/plain": [
       "Map:   0%|          | 0/2536 [00:00<?, ? examples/s]"
      ]
     },
     "metadata": {},
     "output_type": "display_data"
    },
    {
     "data": {
      "application/vnd.jupyter.widget-view+json": {
       "model_id": "",
       "version_major": 2,
       "version_minor": 0
      },
      "text/plain": [
       "Map:   0%|          | 0/2536 [00:00<?, ? examples/s]"
      ]
     },
     "metadata": {},
     "output_type": "display_data"
    },
    {
     "data": {
      "text/plain": [
       "{'translated_1_4': {'bleu': 18.309957728250946},\n",
       " 'translated_2_4': {'bleu': 18.954448420186928},\n",
       " 'translated_3_4': {'bleu': 19.75110141776996},\n",
       " 'translated_4_4': {'bleu': 13.231679360817093}}"
      ]
     },
     "execution_count": 74,
     "metadata": {},
     "output_type": "execute_result"
    }
   ],
   "source": [
    "datasets, results = {},{}\n",
    "for i in range(1,4+1):\n",
    "    datasets[f\"translated_{i}_4\"] = dataset.map(lambda examples :  translate_fr_benchmarking(examples, translator= translators_epoch_1[i]), batched = True)\n",
    "    score = metric.compute(predictions=datasets[f\"translated_{i}_4\"]['translated'], references=datasets[f\"translated_{i}_4\"]['targetString'])\n",
    "    results[f\"translated_{i}_4\"] =  {\"bleu\": score[\"score\"]}\n",
    "results"
   ]
  },
  {
   "cell_type": "code",
   "execution_count": 75,
   "id": "d3a1c782",
   "metadata": {},
   "outputs": [
    {
     "data": {
      "application/vnd.jupyter.widget-view+json": {
       "model_id": "",
       "version_major": 2,
       "version_minor": 0
      },
      "text/plain": [
       "Map:   0%|          | 0/2536 [00:00<?, ? examples/s]"
      ]
     },
     "metadata": {},
     "output_type": "display_data"
    }
   ],
   "source": [
    "from translation import translate_fr_en\n",
    "datasets[f\"translated_Helsinki\"] = dataset.map(translate_fr_benchmarking, batched = True)\n",
    "score = metric.compute(predictions=datasets[f\"translated_Helsinki\"]['translated'], references=datasets[f\"translated_Helsinki\"]['targetString'])\n",
    "results[f\"translated_Helsinki\"] =  {\"bleu\": score[\"score\"]}"
   ]
  },
  {
   "cell_type": "code",
   "execution_count": null,
   "id": "e2551f04",
   "metadata": {},
   "outputs": [],
   "source": [
    "translator_0_4 = pipeline(\"translation\", model=f\"/data/desponds/data/translation_models/model_0_4_epoch_1/checkpoint-1\")\n",
    "datasets[f\"translator_0_4\"] = dataset.map(lambda examples : translate_fr_benchmarking(examples, translator_0_4), batched = True)\n",
    "score = metric.compute(predictions=datasets[f\"translator_0_4\"]['translated'], references=datasets[f\"translator_0_4\"]['targetString'])\n",
    "results[f\"translator_0_4\"] =  {\"bleu\": score[\"score\"]}"
   ]
  },
  {
   "cell_type": "code",
   "execution_count": 91,
   "id": "775d31e7",
   "metadata": {},
   "outputs": [
    {
     "data": {
      "text/plain": [
       "{'translated_1_4': {'bleu': 18.309957728250946},\n",
       " 'translated_2_4': {'bleu': 18.954448420186928},\n",
       " 'translated_3_4': {'bleu': 19.75110141776996},\n",
       " 'translated_4_4': {'bleu': 13.231679360817093},\n",
       " 'translated_Helsinki': {'bleu': 56.39336432554474},\n",
       " 'translator_0_4': {'bleu': 0.7212123764045337}}"
      ]
     },
     "execution_count": 91,
     "metadata": {},
     "output_type": "execute_result"
    }
   ],
   "source": [
    "results"
   ]
  },
  {
   "cell_type": "code",
   "execution_count": 97,
   "id": "706fbc0f",
   "metadata": {},
   "outputs": [
    {
     "data": {
      "text/plain": [
       "[{'translation_text': 'I call Mathieu and I am in my house to work.'}]"
      ]
     },
     "execution_count": 97,
     "metadata": {},
     "output_type": "execute_result"
    }
   ],
   "source": [
    "translator_1_4_epoch_1(\"Je m'appelle Mathieu et je suis dans ma maison entrain de travailler\")"
   ]
  },
  {
   "cell_type": "code",
   "execution_count": 100,
   "id": "34ef0de3",
   "metadata": {},
   "outputs": [
    {
     "ename": "NameError",
     "evalue": "name 'translator_4_4_epoch_5' is not defined",
     "output_type": "error",
     "traceback": [
      "\u001b[0;31m---------------------------------------------------------------------------\u001b[0m",
      "\u001b[0;31mNameError\u001b[0m                                 Traceback (most recent call last)",
      "\u001b[0;32m/tmp/ipykernel_2708294/4209903602.py\u001b[0m in \u001b[0;36m<module>\u001b[0;34m\u001b[0m\n\u001b[0;32m----> 1\u001b[0;31m \u001b[0mtranslator_4_4_epoch_5\u001b[0m\u001b[0;34m(\u001b[0m\u001b[0;34m\"Je m'appelle Mathieu et je suis dans ma maison entrain de travailler\"\u001b[0m\u001b[0;34m)\u001b[0m\u001b[0;34m\u001b[0m\u001b[0;34m\u001b[0m\u001b[0m\n\u001b[0m",
      "\u001b[0;31mNameError\u001b[0m: name 'translator_4_4_epoch_5' is not defined"
     ]
    }
   ],
   "source": [
    "translator_4_4_epoch_5(\"Je m'appelle Mathieu et je suis dans ma maison entrain de travailler\")"
   ]
  },
  {
   "cell_type": "code",
   "execution_count": null,
   "id": "a70ad4f0",
   "metadata": {},
   "outputs": [],
   "source": []
  }
 ],
 "metadata": {
  "kernelspec": {
   "display_name": "Python 3 (ipykernel)",
   "language": "python",
   "name": "python3"
  },
  "language_info": {
   "codemirror_mode": {
    "name": "ipython",
    "version": 3
   },
   "file_extension": ".py",
   "mimetype": "text/x-python",
   "name": "python",
   "nbconvert_exporter": "python",
   "pygments_lexer": "ipython3",
   "version": "3.9.13"
  }
 },
 "nbformat": 4,
 "nbformat_minor": 5
}
